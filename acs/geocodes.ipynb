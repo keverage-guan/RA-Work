{
 "cells": [
  {
   "cell_type": "code",
   "execution_count": 6,
   "metadata": {},
   "outputs": [],
   "source": [
    "import pandas as pd\n",
    "from urllib.request import urlopen\n",
    "import requests"
   ]
  },
  {
   "cell_type": "code",
   "execution_count": 34,
   "metadata": {},
   "outputs": [],
   "source": [
    "# check differences\n",
    "def check_diffs(year1, year2):\n",
    "    geocodes1 = pd.read_excel(f\"all-geocodes-v{year1}.xlsx\", skiprows=4)\n",
    "    geocodes2 = pd.read_excel(f\"all-geocodes-v{year2}.xlsx\", skiprows=4)\n",
    "\n",
    "    geocodes1.columns = geocodes2.columns\n",
    "    geocodes1 = geocodes1.iloc[1:]\n",
    "    for index, geocodes1_row in geocodes1.iterrows():\n",
    "        name = geocodes1_row[geocodes1.columns[-1]]\n",
    "        geocodes2_row = geocodes2[(geocodes2[geocodes1.columns[-1]] == name) & (geocodes2[geocodes1.columns[1]] == geocodes1_row[geocodes1.columns[1]])]\n",
    "        # check if all values are the same\n",
    "        for column in geocodes2.columns[1:-1]:\n",
    "            # try: \n",
    "            if (geocodes1_row[column] != 0 and geocodes2_row[column != 0] and geocodes2_row[column] != geocodes1_row[column]):\n",
    "                print(f\"Difference in {column} for {name}\")\n",
    "            # except:\n",
    "\n",
    "            #     print(f\"{name} not found\")"
   ]
  },
  {
   "cell_type": "code",
   "execution_count": 35,
   "metadata": {},
   "outputs": [
    {
     "ename": "KeyError",
     "evalue": "True",
     "output_type": "error",
     "traceback": [
      "\u001b[1;31m---------------------------------------------------------------------------\u001b[0m",
      "\u001b[1;31mKeyError\u001b[0m                                  Traceback (most recent call last)",
      "\u001b[1;32mc:\\Users\\User\\AppData\\Local\\Programs\\Python\\Python310\\lib\\site-packages\\pandas\\core\\indexes\\base.py\u001b[0m in \u001b[0;36mget_loc\u001b[1;34m(self, key)\u001b[0m\n\u001b[0;32m   3801\u001b[0m         \u001b[1;32mtry\u001b[0m\u001b[1;33m:\u001b[0m\u001b[1;33m\u001b[0m\u001b[1;33m\u001b[0m\u001b[0m\n\u001b[1;32m-> 3802\u001b[1;33m             \u001b[1;32mreturn\u001b[0m \u001b[0mself\u001b[0m\u001b[1;33m.\u001b[0m\u001b[0m_engine\u001b[0m\u001b[1;33m.\u001b[0m\u001b[0mget_loc\u001b[0m\u001b[1;33m(\u001b[0m\u001b[0mcasted_key\u001b[0m\u001b[1;33m)\u001b[0m\u001b[1;33m\u001b[0m\u001b[1;33m\u001b[0m\u001b[0m\n\u001b[0m\u001b[0;32m   3803\u001b[0m         \u001b[1;32mexcept\u001b[0m \u001b[0mKeyError\u001b[0m \u001b[1;32mas\u001b[0m \u001b[0merr\u001b[0m\u001b[1;33m:\u001b[0m\u001b[1;33m\u001b[0m\u001b[1;33m\u001b[0m\u001b[0m\n",
      "\u001b[1;32mindex.pyx\u001b[0m in \u001b[0;36mpandas._libs.index.IndexEngine.get_loc\u001b[1;34m()\u001b[0m\n",
      "\u001b[1;32mindex.pyx\u001b[0m in \u001b[0;36mpandas._libs.index.IndexEngine.get_loc\u001b[1;34m()\u001b[0m\n",
      "\u001b[1;32mpandas\\\\_libs\\\\hashtable_class_helper.pxi\u001b[0m in \u001b[0;36mpandas._libs.hashtable.PyObjectHashTable.get_item\u001b[1;34m()\u001b[0m\n",
      "\u001b[1;32mpandas\\\\_libs\\\\hashtable_class_helper.pxi\u001b[0m in \u001b[0;36mpandas._libs.hashtable.PyObjectHashTable.get_item\u001b[1;34m()\u001b[0m\n",
      "\u001b[1;31mKeyError\u001b[0m: True",
      "\nThe above exception was the direct cause of the following exception:\n",
      "\u001b[1;31mKeyError\u001b[0m                                  Traceback (most recent call last)",
      "\u001b[1;32m~\\AppData\\Local\\Temp\\ipykernel_8588\\903399085.py\u001b[0m in \u001b[0;36m<module>\u001b[1;34m\u001b[0m\n\u001b[1;32m----> 1\u001b[1;33m \u001b[0mcheck_diffs\u001b[0m\u001b[1;33m(\u001b[0m\u001b[1;36m2018\u001b[0m\u001b[1;33m,\u001b[0m \u001b[1;36m2019\u001b[0m\u001b[1;33m)\u001b[0m\u001b[1;33m\u001b[0m\u001b[1;33m\u001b[0m\u001b[0m\n\u001b[0m",
      "\u001b[1;32m~\\AppData\\Local\\Temp\\ipykernel_8588\\2517679896.py\u001b[0m in \u001b[0;36mcheck_diffs\u001b[1;34m(year1, year2)\u001b[0m\n\u001b[0;32m     12\u001b[0m         \u001b[1;32mfor\u001b[0m \u001b[0mcolumn\u001b[0m \u001b[1;32min\u001b[0m \u001b[0mgeocodes2\u001b[0m\u001b[1;33m.\u001b[0m\u001b[0mcolumns\u001b[0m\u001b[1;33m[\u001b[0m\u001b[1;36m1\u001b[0m\u001b[1;33m:\u001b[0m\u001b[1;33m-\u001b[0m\u001b[1;36m1\u001b[0m\u001b[1;33m]\u001b[0m\u001b[1;33m:\u001b[0m\u001b[1;33m\u001b[0m\u001b[1;33m\u001b[0m\u001b[0m\n\u001b[0;32m     13\u001b[0m             \u001b[1;31m# try:\u001b[0m\u001b[1;33m\u001b[0m\u001b[1;33m\u001b[0m\u001b[0m\n\u001b[1;32m---> 14\u001b[1;33m             \u001b[1;32mif\u001b[0m \u001b[1;33m(\u001b[0m\u001b[0mgeocodes1_row\u001b[0m\u001b[1;33m[\u001b[0m\u001b[0mcolumn\u001b[0m\u001b[1;33m]\u001b[0m \u001b[1;33m!=\u001b[0m \u001b[1;36m0\u001b[0m \u001b[1;32mand\u001b[0m \u001b[0mgeocodes2_row\u001b[0m\u001b[1;33m[\u001b[0m\u001b[0mcolumn\u001b[0m \u001b[1;33m!=\u001b[0m \u001b[1;36m0\u001b[0m\u001b[1;33m]\u001b[0m \u001b[1;32mand\u001b[0m \u001b[0mgeocodes2_row\u001b[0m\u001b[1;33m[\u001b[0m\u001b[0mcolumn\u001b[0m\u001b[1;33m]\u001b[0m \u001b[1;33m!=\u001b[0m \u001b[0mgeocodes1_row\u001b[0m\u001b[1;33m[\u001b[0m\u001b[0mcolumn\u001b[0m\u001b[1;33m]\u001b[0m\u001b[1;33m)\u001b[0m\u001b[1;33m:\u001b[0m\u001b[1;33m\u001b[0m\u001b[1;33m\u001b[0m\u001b[0m\n\u001b[0m\u001b[0;32m     15\u001b[0m                 \u001b[0mprint\u001b[0m\u001b[1;33m(\u001b[0m\u001b[1;34mf\"Difference in {column} for {name}\"\u001b[0m\u001b[1;33m)\u001b[0m\u001b[1;33m\u001b[0m\u001b[1;33m\u001b[0m\u001b[0m\n\u001b[0;32m     16\u001b[0m             \u001b[1;31m# except:\u001b[0m\u001b[1;33m\u001b[0m\u001b[1;33m\u001b[0m\u001b[0m\n",
      "\u001b[1;32mc:\\Users\\User\\AppData\\Local\\Programs\\Python\\Python310\\lib\\site-packages\\pandas\\core\\frame.py\u001b[0m in \u001b[0;36m__getitem__\u001b[1;34m(self, key)\u001b[0m\n\u001b[0;32m   4088\u001b[0m             \u001b[1;32mif\u001b[0m \u001b[0mself\u001b[0m\u001b[1;33m.\u001b[0m\u001b[0mcolumns\u001b[0m\u001b[1;33m.\u001b[0m\u001b[0mnlevels\u001b[0m \u001b[1;33m>\u001b[0m \u001b[1;36m1\u001b[0m\u001b[1;33m:\u001b[0m\u001b[1;33m\u001b[0m\u001b[1;33m\u001b[0m\u001b[0m\n\u001b[0;32m   4089\u001b[0m                 \u001b[1;32mreturn\u001b[0m \u001b[0mself\u001b[0m\u001b[1;33m.\u001b[0m\u001b[0m_getitem_multilevel\u001b[0m\u001b[1;33m(\u001b[0m\u001b[0mkey\u001b[0m\u001b[1;33m)\u001b[0m\u001b[1;33m\u001b[0m\u001b[1;33m\u001b[0m\u001b[0m\n\u001b[1;32m-> 4090\u001b[1;33m             \u001b[0mindexer\u001b[0m \u001b[1;33m=\u001b[0m \u001b[0mself\u001b[0m\u001b[1;33m.\u001b[0m\u001b[0mcolumns\u001b[0m\u001b[1;33m.\u001b[0m\u001b[0mget_loc\u001b[0m\u001b[1;33m(\u001b[0m\u001b[0mkey\u001b[0m\u001b[1;33m)\u001b[0m\u001b[1;33m\u001b[0m\u001b[1;33m\u001b[0m\u001b[0m\n\u001b[0m\u001b[0;32m   4091\u001b[0m             \u001b[1;32mif\u001b[0m \u001b[0mis_integer\u001b[0m\u001b[1;33m(\u001b[0m\u001b[0mindexer\u001b[0m\u001b[1;33m)\u001b[0m\u001b[1;33m:\u001b[0m\u001b[1;33m\u001b[0m\u001b[1;33m\u001b[0m\u001b[0m\n\u001b[0;32m   4092\u001b[0m                 \u001b[0mindexer\u001b[0m \u001b[1;33m=\u001b[0m \u001b[1;33m[\u001b[0m\u001b[0mindexer\u001b[0m\u001b[1;33m]\u001b[0m\u001b[1;33m\u001b[0m\u001b[1;33m\u001b[0m\u001b[0m\n",
      "\u001b[1;32mc:\\Users\\User\\AppData\\Local\\Programs\\Python\\Python310\\lib\\site-packages\\pandas\\core\\indexes\\base.py\u001b[0m in \u001b[0;36mget_loc\u001b[1;34m(self, key)\u001b[0m\n\u001b[0;32m   3807\u001b[0m             ):\n\u001b[0;32m   3808\u001b[0m                 \u001b[1;32mraise\u001b[0m \u001b[0mInvalidIndexError\u001b[0m\u001b[1;33m(\u001b[0m\u001b[0mkey\u001b[0m\u001b[1;33m)\u001b[0m\u001b[1;33m\u001b[0m\u001b[1;33m\u001b[0m\u001b[0m\n\u001b[1;32m-> 3809\u001b[1;33m             \u001b[1;32mraise\u001b[0m \u001b[0mKeyError\u001b[0m\u001b[1;33m(\u001b[0m\u001b[0mkey\u001b[0m\u001b[1;33m)\u001b[0m \u001b[1;32mfrom\u001b[0m \u001b[0merr\u001b[0m\u001b[1;33m\u001b[0m\u001b[1;33m\u001b[0m\u001b[0m\n\u001b[0m\u001b[0;32m   3810\u001b[0m         \u001b[1;32mexcept\u001b[0m \u001b[0mTypeError\u001b[0m\u001b[1;33m:\u001b[0m\u001b[1;33m\u001b[0m\u001b[1;33m\u001b[0m\u001b[0m\n\u001b[0;32m   3811\u001b[0m             \u001b[1;31m# If we have a listlike key, _check_indexing_error will raise\u001b[0m\u001b[1;33m\u001b[0m\u001b[1;33m\u001b[0m\u001b[0m\n",
      "\u001b[1;31mKeyError\u001b[0m: True"
     ]
    }
   ],
   "source": [
    "check_diffs(2018, 2019)"
   ]
  },
  {
   "cell_type": "code",
   "execution_count": 64,
   "metadata": {},
   "outputs": [
    {
     "name": "stdout",
     "output_type": "stream",
     "text": [
      "Difference in Place Code (FIPS) for St. Anthony city (56680 vs 56698)\n",
      "Difference in Place Code (FIPS) for St. Anthony city (56698 vs 56680)\n",
      "Difference in Place Code (FIPS) for Oakwood village (57750 vs 57792)\n",
      "Difference in Place Code (FIPS) for Oakwood village (57792 vs 57750)\n",
      "Difference in Place Code (FIPS) for Centerville borough (12184 vs 12224)\n",
      "Difference in Place Code (FIPS) for Centerville borough (12224 vs 12184)\n",
      "Difference in Place Code (FIPS) for Coaldale borough (14584 vs 14600)\n",
      "Difference in Place Code (FIPS) for Coaldale borough (14600 vs 14584)\n",
      "Difference in Place Code (FIPS) for Jefferson borough (37880 vs 37944)\n",
      "Difference in Place Code (FIPS) for Jefferson borough (37944 vs 37880)\n",
      "Difference in Place Code (FIPS) for Liberty borough (43064 vs 43128)\n",
      "Difference in Place Code (FIPS) for Liberty borough (43128 vs 43064)\n",
      "Difference in Place Code (FIPS) for Newburg borough (53336 vs 53344)\n",
      "Difference in Place Code (FIPS) for Newburg borough (53344 vs 53336)\n",
      "Difference in Place Code (FIPS) for Pleasantville borough (61496 vs 61512)\n",
      "Difference in Place Code (FIPS) for Pleasantville borough (61512 vs 61496)\n",
      "Difference in Place Code (FIPS) for Lakeside town (40738 vs 40744)\n",
      "Difference in Place Code (FIPS) for Lakeside town (40744 vs 40738)\n",
      "Difference in Place Code (FIPS) for Oak Ridge town (53154 vs 53160)\n",
      "Difference in Place Code (FIPS) for Oak Ridge town (53160 vs 53154)\n",
      "Difference in Place Code (FIPS) for Reno city (61592 vs 61604)\n",
      "Difference in Place Code (FIPS) for Reno city (61604 vs 61592)\n"
     ]
    }
   ],
   "source": [
    "year1 = 2022\n",
    "year2 = 2019\n",
    "geocodes1 = pd.read_excel(f\"all-geocodes-v{year1}.xlsx\", skiprows=4)\n",
    "geocodes2 = pd.read_excel(f\"all-geocodes-v{year2}.xlsx\", skiprows=4)\n",
    "\n",
    "geocodes1.columns = geocodes2.columns\n",
    "# remove indices if present\n",
    "\n",
    "\n",
    "# convert columns [1:-1] to be ints\n",
    "for column in geocodes1.columns[1:-1]:\n",
    "    geocodes1[column] = geocodes1[column].astype(int)\n",
    "    geocodes2[column] = geocodes2[column].astype(int)\n",
    "\n",
    "geocodes1 = geocodes1.iloc[1:]\n",
    "for index, geocodes1_row in geocodes1.iterrows():\n",
    "    name = geocodes1_row[geocodes1.columns[-1]]\n",
    "    if geocodes1_row[geocodes1.columns[4]] == 0:\n",
    "        continue\n",
    "    geocodes2_matches = geocodes2[(geocodes2[geocodes1.columns[-1]] == name) & (geocodes2[geocodes1.columns[1]] == geocodes1_row[geocodes1.columns[1]])]\n",
    "    for index2, geocodes2_row in geocodes2_matches.iterrows():\n",
    "        if geocodes2_row[geocodes1.columns[4]] == 0:\n",
    "            continue\n",
    "        # check if all values are the same\n",
    "        for column in geocodes2.columns[1:-1]:\n",
    "            geocodes1_val = geocodes1_row[column]\n",
    "            geocodes2_val = geocodes2_row[column]\n",
    "            if (geocodes1_val != 0 and geocodes2_val != 0 and geocodes2_val != geocodes1_val):\n",
    "                print(f\"Difference in {column} for {name} ({geocodes1_val} vs {geocodes2_val})\")\n",
    "            # except:\n",
    "\n",
    "            #     print(f\"{name} not found\")"
   ]
  }
 ],
 "metadata": {
  "kernelspec": {
   "display_name": "Python 3",
   "language": "python",
   "name": "python3"
  },
  "language_info": {
   "codemirror_mode": {
    "name": "ipython",
    "version": 3
   },
   "file_extension": ".py",
   "mimetype": "text/x-python",
   "name": "python",
   "nbconvert_exporter": "python",
   "pygments_lexer": "ipython3",
   "version": "3.10.0"
  }
 },
 "nbformat": 4,
 "nbformat_minor": 2
}
