{
 "cells": [
  {
   "cell_type": "code",
   "execution_count": 20,
   "metadata": {},
   "outputs": [],
   "source": [
    "# Import modules\n",
    "import pandas as pd\n",
    "import cleaning\n",
    "import utils\n",
    "import importlib"
   ]
  },
  {
   "cell_type": "code",
   "execution_count": 21,
   "metadata": {},
   "outputs": [
    {
     "data": {
      "text/plain": [
       "<module 'utils' from 'd:\\\\Users\\\\User\\\\Downloads\\\\RA Work\\\\acs\\\\notebooks\\\\utils.py'>"
      ]
     },
     "execution_count": 21,
     "metadata": {},
     "output_type": "execute_result"
    }
   ],
   "source": [
    "# reload utils\n",
    "importlib.reload(utils)"
   ]
  },
  {
   "cell_type": "code",
   "execution_count": 22,
   "metadata": {},
   "outputs": [],
   "source": [
    "# open elections.xlsx\n",
    "elections = pd.read_excel('../input/elections.xlsx')\n",
    "\n",
    "# open elections_with_geocodes.xlsx\n",
    "geocodes = pd.read_excel('../input/elections_with_geocodes.xlsx')\n",
    "sv = pd.read_excel('../input/selected_variables.xlsx')\n",
    "\n",
    "key = 'ad8851f3bf6aaf76923ec4119b6f714cdfaa87d9'"
   ]
  },
  {
   "cell_type": "code",
   "execution_count": 37,
   "metadata": {},
   "outputs": [],
   "source": [
    "acs_data = []"
   ]
  },
  {
   "cell_type": "code",
   "execution_count": 38,
   "metadata": {},
   "outputs": [
    {
     "name": "stdout",
     "output_type": "stream",
     "text": [
      "360 of 498\n",
      "370 of 498\n",
      "380 of 498\n",
      "390 of 498\n",
      "400 of 498\n",
      "410 of 498\n",
      "420 of 498\n",
      "430 of 498\n",
      "440 of 498\n",
      "450 of 498\n",
      "460 of 498\n",
      "470 of 498\n",
      "480 of 498\n",
      "490 of 498\n"
     ]
    }
   ],
   "source": [
    "for index, row in elections.iterrows():\n",
    "    # row['geo_filename'] is either a string or nan, continue if not nan\n",
    "    if not pd.isnull(row['geo_filename']):\n",
    "        continue\n",
    "\n",
    "    if index % 10 == 0:\n",
    "        print(f\"{index} of {len(elections)}\")\n",
    "\n",
    "    year = row['year']\n",
    "\n",
    "    # get row where filename is equal to row['filename']\n",
    "    geocode_row = geocodes[geocodes['filename'] == row['filename']]\n",
    "    for_param = utils.get_place_for_param(geocode_row)\n",
    "    data_dict = utils.query(year, sv, for_param, key)\n",
    "    data_dict['filename'] = row['filename']\n",
    "    data_dict['year'] = year\n",
    "\n",
    "    acs_data.append(data_dict)"
   ]
  },
  {
   "cell_type": "code",
   "execution_count": 39,
   "metadata": {},
   "outputs": [],
   "source": [
    "acs_data = cleaning.dicts_to_df(acs_data)\n",
    "# order so that geocode and year are first\n",
    "acs_data = acs_data[['filename', 'year'] + [col for col in acs_data.columns if col not in ['filename', 'year']]]\n",
    "# remove state, place, county\n",
    "acs_data = acs_data.drop(columns=['state', 'place', 'county'])"
   ]
  },
  {
   "cell_type": "code",
   "execution_count": 40,
   "metadata": {},
   "outputs": [],
   "source": [
    "# save acs_data as place_acs_data.csv\n",
    "acs_data.to_csv('../output/place_acs_data.csv', index=False)"
   ]
  }
 ],
 "metadata": {
  "kernelspec": {
   "display_name": "Python 3",
   "language": "python",
   "name": "python3"
  },
  "language_info": {
   "codemirror_mode": {
    "name": "ipython",
    "version": 3
   },
   "file_extension": ".py",
   "mimetype": "text/x-python",
   "name": "python",
   "nbconvert_exporter": "python",
   "pygments_lexer": "ipython3",
   "version": "3.10.0"
  }
 },
 "nbformat": 4,
 "nbformat_minor": 2
}
