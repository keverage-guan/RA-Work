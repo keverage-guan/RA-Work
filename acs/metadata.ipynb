{
 "cells": [
  {
   "cell_type": "code",
   "execution_count": 52,
   "metadata": {},
   "outputs": [],
   "source": [
    "import pandas as pd"
   ]
  },
  {
   "cell_type": "code",
   "execution_count": 53,
   "metadata": {},
   "outputs": [],
   "source": [
    "# open files\n",
    "data = pd.read_csv('final_data.csv')\n",
    "variables = pd.read_csv(r'variables/variables_acs5_2022.csv')\n",
    "# if the last letter is E, remove it, and if the last letter is P, remove that too in Name\n",
    "variables['Name'] = variables['Name'].apply(lambda x: x[:-2] if x[-2] == 'P' else x[:-1])\n",
    "# open missing_data.csv\n",
    "missing_data = pd.read_csv('missing_data.csv')[['variable', 'prop_missing']]\n",
    "# calculate prop_available\n",
    "missing_data['prop_available'] = 1 - missing_data['prop_missing']\n",
    "missing_data = missing_data.drop(columns='prop_missing')\n",
    "missing_data = missing_data.groupby('variable').mean().reset_index()"
   ]
  },
  {
   "cell_type": "code",
   "execution_count": 54,
   "metadata": {},
   "outputs": [
    {
     "ename": "IndexError",
     "evalue": "index 0 is out of bounds for axis 0 with size 0",
     "output_type": "error",
     "traceback": [
      "\u001b[1;31m---------------------------------------------------------------------------\u001b[0m",
      "\u001b[1;31mIndexError\u001b[0m                                Traceback (most recent call last)",
      "\u001b[1;32m~\\AppData\\Local\\Temp\\ipykernel_29692\\3210640267.py\u001b[0m in \u001b[0;36m<module>\u001b[1;34m\u001b[0m\n\u001b[0;32m     23\u001b[0m     \u001b[0mmeta_data\u001b[0m\u001b[1;33m[\u001b[0m\u001b[1;34m'Missing Elections'\u001b[0m\u001b[1;33m]\u001b[0m\u001b[1;33m.\u001b[0m\u001b[0mappend\u001b[0m\u001b[1;33m(\u001b[0m\u001b[0mnull_rows\u001b[0m\u001b[1;33m)\u001b[0m\u001b[1;33m\u001b[0m\u001b[1;33m\u001b[0m\u001b[0m\n\u001b[0;32m     24\u001b[0m     \u001b[0mmeta_data\u001b[0m\u001b[1;33m[\u001b[0m\u001b[1;34m'Percent Elections Available'\u001b[0m\u001b[1;33m]\u001b[0m\u001b[1;33m.\u001b[0m\u001b[0mappend\u001b[0m\u001b[1;33m(\u001b[0m\u001b[0mpresent_percentage\u001b[0m\u001b[1;33m)\u001b[0m\u001b[1;33m\u001b[0m\u001b[1;33m\u001b[0m\u001b[0m\n\u001b[1;32m---> 25\u001b[1;33m     \u001b[0mmeta_data\u001b[0m\u001b[1;33m[\u001b[0m\u001b[1;34m'Average Tract Availability'\u001b[0m\u001b[1;33m]\u001b[0m\u001b[1;33m.\u001b[0m\u001b[0mappend\u001b[0m\u001b[1;33m(\u001b[0m\u001b[0mmissing_data\u001b[0m\u001b[1;33m[\u001b[0m\u001b[0mmissing_data\u001b[0m\u001b[1;33m[\u001b[0m\u001b[1;34m'variable'\u001b[0m\u001b[1;33m]\u001b[0m \u001b[1;33m==\u001b[0m \u001b[0mcolumn\u001b[0m\u001b[1;33m]\u001b[0m\u001b[1;33m[\u001b[0m\u001b[1;34m'prop_available'\u001b[0m\u001b[1;33m]\u001b[0m\u001b[1;33m.\u001b[0m\u001b[0mvalues\u001b[0m\u001b[1;33m[\u001b[0m\u001b[1;36m0\u001b[0m\u001b[1;33m]\u001b[0m\u001b[1;33m)\u001b[0m\u001b[1;33m\u001b[0m\u001b[1;33m\u001b[0m\u001b[0m\n\u001b[0m\u001b[0;32m     26\u001b[0m \u001b[1;33m\u001b[0m\u001b[0m\n\u001b[0;32m     27\u001b[0m \u001b[0mmeta_data\u001b[0m \u001b[1;33m=\u001b[0m \u001b[0mpd\u001b[0m\u001b[1;33m.\u001b[0m\u001b[0mDataFrame\u001b[0m\u001b[1;33m(\u001b[0m\u001b[0mmeta_data\u001b[0m\u001b[1;33m)\u001b[0m\u001b[1;33m\u001b[0m\u001b[1;33m\u001b[0m\u001b[0m\n",
      "\u001b[1;31mIndexError\u001b[0m: index 0 is out of bounds for axis 0 with size 0"
     ]
    }
   ],
   "source": [
    "meta_data = {'Variable': [], 'Label': [], 'Concept': [], 'Available Elections': [], 'Missing Elections': [], 'Percent Elections Available': [], 'Average Tract Availability': []}\n",
    "\n",
    "for column in data.columns[1:]:\n",
    "    if column.endswith('PE'):\n",
    "        stem = column[:-2]\n",
    "    else:\n",
    "        stem = column[:-1]\n",
    "    label = variables[variables['Name'] == stem]['Label'].values[0]\n",
    "    concept = variables[variables['Name'] == stem]['Concept'].values[0]\n",
    "\n",
    "    # get the number of rows with null values\n",
    "    null_rows = data[column].isnull().sum()\n",
    "    # get the number of total rows\n",
    "    total_rows = data.shape[0]\n",
    "    present_rows = total_rows - null_rows\n",
    "    # get the percentage of present values\n",
    "    present_percentage = present_rows / total_rows\n",
    "    # get prop_available if variable is there, otherwise it is 1\n",
    "    tract_availability = 1 if column not in missing_data['variable'].values else missing_data[missing_data['variable'] == column]['prop_available'].values[0]\n",
    "\n",
    "    meta_data['Variable'].append(column)\n",
    "    meta_data['Label'].append(label)\n",
    "    meta_data['Concept'].append(concept)\n",
    "    meta_data['Available Elections'].append(present_rows)\n",
    "    meta_data['Missing Elections'].append(null_rows)\n",
    "    meta_data['Percent Elections Available'].append(present_percentage)\n",
    "    meta_data['Average Tract Availability'].append(tract_availability)\n",
    "\n",
    "meta_data = pd.DataFrame(meta_data)\n",
    "meta_data.to_csv('meta_data.csv', index=False)"
   ]
  }
 ],
 "metadata": {
  "kernelspec": {
   "display_name": "Python 3",
   "language": "python",
   "name": "python3"
  },
  "language_info": {
   "codemirror_mode": {
    "name": "ipython",
    "version": 3
   },
   "file_extension": ".py",
   "mimetype": "text/x-python",
   "name": "python",
   "nbconvert_exporter": "python",
   "pygments_lexer": "ipython3",
   "version": "3.10.0"
  }
 },
 "nbformat": 4,
 "nbformat_minor": 2
}
