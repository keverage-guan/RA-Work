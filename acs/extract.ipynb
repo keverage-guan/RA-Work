{
 "cells": [
  {
   "cell_type": "code",
   "execution_count": 101,
   "metadata": {},
   "outputs": [],
   "source": [
    "import extract\n",
    "import pandas as pd\n",
    "import os\n",
    "import geopandas as gpd"
   ]
  },
  {
   "cell_type": "code",
   "execution_count": 102,
   "metadata": {},
   "outputs": [
    {
     "data": {
      "text/plain": [
       "<module 'extract' from 'd:\\\\Users\\\\User\\\\Downloads\\\\RA Work\\\\acs\\\\extract.py'>"
      ]
     },
     "execution_count": 102,
     "metadata": {},
     "output_type": "execute_result"
    }
   ],
   "source": [
    "import imp\n",
    "imp.reload(extract)"
   ]
  },
  {
   "cell_type": "code",
   "execution_count": 103,
   "metadata": {},
   "outputs": [
    {
     "data": {
      "text/html": [
       "<div>\n",
       "<style scoped>\n",
       "    .dataframe tbody tr th:only-of-type {\n",
       "        vertical-align: middle;\n",
       "    }\n",
       "\n",
       "    .dataframe tbody tr th {\n",
       "        vertical-align: top;\n",
       "    }\n",
       "\n",
       "    .dataframe thead th {\n",
       "        text-align: right;\n",
       "    }\n",
       "</style>\n",
       "<table border=\"1\" class=\"dataframe\">\n",
       "  <thead>\n",
       "    <tr style=\"text-align: right;\">\n",
       "      <th></th>\n",
       "      <th>state</th>\n",
       "      <th>code</th>\n",
       "      <th>abbreviation</th>\n",
       "    </tr>\n",
       "  </thead>\n",
       "  <tbody>\n",
       "    <tr>\n",
       "      <th>0</th>\n",
       "      <td>Alabama</td>\n",
       "      <td>1</td>\n",
       "      <td>AL</td>\n",
       "    </tr>\n",
       "    <tr>\n",
       "      <th>1</th>\n",
       "      <td>Alaska</td>\n",
       "      <td>2</td>\n",
       "      <td>AK</td>\n",
       "    </tr>\n",
       "    <tr>\n",
       "      <th>2</th>\n",
       "      <td>Arizona</td>\n",
       "      <td>4</td>\n",
       "      <td>AZ</td>\n",
       "    </tr>\n",
       "    <tr>\n",
       "      <th>3</th>\n",
       "      <td>Arkansas</td>\n",
       "      <td>5</td>\n",
       "      <td>AR</td>\n",
       "    </tr>\n",
       "    <tr>\n",
       "      <th>4</th>\n",
       "      <td>California</td>\n",
       "      <td>6</td>\n",
       "      <td>CA</td>\n",
       "    </tr>\n",
       "  </tbody>\n",
       "</table>\n",
       "</div>"
      ],
      "text/plain": [
       "        state  code abbreviation\n",
       "0     Alabama     1           AL\n",
       "1      Alaska     2           AK\n",
       "2     Arizona     4           AZ\n",
       "3    Arkansas     5           AR\n",
       "4  California     6           CA"
      ]
     },
     "execution_count": 103,
     "metadata": {},
     "output_type": "execute_result"
    }
   ],
   "source": [
    "# open state_fips.csv\n",
    "state_fips = pd.read_csv('state_fips.csv')\n",
    "state_fips.head()"
   ]
  },
  {
   "cell_type": "code",
   "execution_count": 117,
   "metadata": {},
   "outputs": [],
   "source": [
    "# for every folder in raw_tract_data\n",
    "for folder in os.listdir('raw_tract_data'):\n",
    "    # split folder into list by underscore\n",
    "    folder_tokens = folder.split('_')\n",
    "    \n",
    "    # get state column from state_fips where code is third item in list as int\n",
    "    state = state_fips[state_fips['code'] == int(folder_tokens[2])]['state'].values[0].lower()\n",
    "\n",
    "    # if last item in folder is 'tract' year is 2000, otherwise it is 20 + last two digits\n",
    "    year = '2020' if folder_tokens[-1] == 'tract' else '20' + folder_tokens[-1][-2:]\n",
    "\n",
    "    # if tract file already exists, skip\n",
    "    if os.path.exists(f'tract_polygons/{state}_tracts_{year}.csv'):\n",
    "        continue\n",
    "\n",
    "    # get the filepath of the shp file in the folder with the same name\n",
    "    shp_file = os.path.join('raw_tract_data', folder, folder + '.shp')\n",
    "\n",
    "    tract_geos = extract.read_tracts(shp_file)\n",
    "    \n",
    "    # save as acs\\tract_polygons\\berkeley_tracts_2010.csv\n",
    "    tract_geos.to_csv(f'tract_polygons/{state}_tracts_{year}.csv', index=False)"
   ]
  },
  {
   "cell_type": "code",
   "execution_count": 46,
   "metadata": {},
   "outputs": [],
   "source": [
    "# for alaska upper (weird KML)\n",
    "gpd.io.file.fiona.drvsupport.supported_drivers['KML'] = 'rw'\n",
    "districts = gpd.read_file('raw_geo_data\\\\alaska_upper_2022.kml', driver='KML')\n",
    "# rename Name to district\n",
    "districts = districts.rename(columns={'Name': 'district'})\n",
    "# only keep district and geometry\n",
    "districts = districts[['district', 'geometry']]\n",
    "# only keep the part of the district field in the form 0200A\n",
    "districts['district'] = districts['district'].str.extract(r'(\\d{4}[A-Z])')\n",
    "# only keep the last letter\n",
    "districts['district'] = districts['district'].str[-1]\n",
    "# save to geo_polygons folder as alaska_upper_districts_2022.csv\n",
    "# districts.to_csv('geo_polygons/alaska_upper_districts_2022.csv', index=False)"
   ]
  },
  {
   "cell_type": "code",
   "execution_count": 125,
   "metadata": {},
   "outputs": [
    {
     "data": {
      "text/html": [
       "<div>\n",
       "<style scoped>\n",
       "    .dataframe tbody tr th:only-of-type {\n",
       "        vertical-align: middle;\n",
       "    }\n",
       "\n",
       "    .dataframe tbody tr th {\n",
       "        vertical-align: top;\n",
       "    }\n",
       "\n",
       "    .dataframe thead th {\n",
       "        text-align: right;\n",
       "    }\n",
       "</style>\n",
       "<table border=\"1\" class=\"dataframe\">\n",
       "  <thead>\n",
       "    <tr style=\"text-align: right;\">\n",
       "      <th></th>\n",
       "      <th>OBJECTID</th>\n",
       "      <th>MPLSPARK</th>\n",
       "      <th>Shape__Are</th>\n",
       "      <th>Shape__Len</th>\n",
       "      <th>geometry</th>\n",
       "    </tr>\n",
       "  </thead>\n",
       "  <tbody>\n",
       "    <tr>\n",
       "      <th>0</th>\n",
       "      <td>1</td>\n",
       "      <td>1</td>\n",
       "      <td>3.284170e+08</td>\n",
       "      <td>98390.029893</td>\n",
       "      <td>POLYGON ((-93.22693 45.03567, -93.22693 45.033...</td>\n",
       "    </tr>\n",
       "    <tr>\n",
       "      <th>1</th>\n",
       "      <td>2</td>\n",
       "      <td>2</td>\n",
       "      <td>2.836905e+08</td>\n",
       "      <td>81825.208696</td>\n",
       "      <td>POLYGON ((-93.31950 45.05125, -93.31823 45.051...</td>\n",
       "    </tr>\n",
       "    <tr>\n",
       "      <th>2</th>\n",
       "      <td>3</td>\n",
       "      <td>3</td>\n",
       "      <td>1.594340e+08</td>\n",
       "      <td>69333.502519</td>\n",
       "      <td>POLYGON ((-93.22573 44.96616, -93.22286 44.963...</td>\n",
       "    </tr>\n",
       "    <tr>\n",
       "      <th>3</th>\n",
       "      <td>4</td>\n",
       "      <td>4</td>\n",
       "      <td>1.928964e+08</td>\n",
       "      <td>97013.396958</td>\n",
       "      <td>POLYGON ((-93.26800 44.98965, -93.26765 44.989...</td>\n",
       "    </tr>\n",
       "    <tr>\n",
       "      <th>4</th>\n",
       "      <td>5</td>\n",
       "      <td>5</td>\n",
       "      <td>3.401534e+08</td>\n",
       "      <td>104630.772827</td>\n",
       "      <td>POLYGON ((-93.21003 44.95469, -93.20776 44.953...</td>\n",
       "    </tr>\n",
       "    <tr>\n",
       "      <th>5</th>\n",
       "      <td>6</td>\n",
       "      <td>6</td>\n",
       "      <td>2.987371e+08</td>\n",
       "      <td>88954.577536</td>\n",
       "      <td>POLYGON ((-93.32251 44.96048, -93.32252 44.960...</td>\n",
       "    </tr>\n",
       "  </tbody>\n",
       "</table>\n",
       "</div>"
      ],
      "text/plain": [
       "   OBJECTID  MPLSPARK    Shape__Are     Shape__Len  \\\n",
       "0         1         1  3.284170e+08   98390.029893   \n",
       "1         2         2  2.836905e+08   81825.208696   \n",
       "2         3         3  1.594340e+08   69333.502519   \n",
       "3         4         4  1.928964e+08   97013.396958   \n",
       "4         5         5  3.401534e+08  104630.772827   \n",
       "5         6         6  2.987371e+08   88954.577536   \n",
       "\n",
       "                                            geometry  \n",
       "0  POLYGON ((-93.22693 45.03567, -93.22693 45.033...  \n",
       "1  POLYGON ((-93.31950 45.05125, -93.31823 45.051...  \n",
       "2  POLYGON ((-93.22573 44.96616, -93.22286 44.963...  \n",
       "3  POLYGON ((-93.26800 44.98965, -93.26765 44.989...  \n",
       "4  POLYGON ((-93.21003 44.95469, -93.20776 44.953...  \n",
       "5  POLYGON ((-93.32251 44.96048, -93.32252 44.960...  "
      ]
     },
     "execution_count": 125,
     "metadata": {},
     "output_type": "execute_result"
    }
   ],
   "source": [
    "# for SHP\n",
    "# read in shp\n",
    "districts = gpd.read_file(r'raw_geo_data\\Minneapolis_Park_Commissioner_Districts_2022\\Minneapolis_Park_Commissioner_Districts_2022.shp')\n",
    "districts"
   ]
  },
  {
   "cell_type": "code",
   "execution_count": 126,
   "metadata": {},
   "outputs": [],
   "source": [
    "# only keep district and geometry\n",
    "district_name = 'MPLSPARK'\n",
    "year=2022\n",
    "desc='minneapolis_park_commissioner'\n",
    "districts = districts[[district_name, 'geometry']]\n",
    "# rename to district and convert to int\n",
    "districts = districts.rename(columns={district_name: 'district'})\n",
    "districts['district'] = districts['district'].astype(int)"
   ]
  },
  {
   "cell_type": "code",
   "execution_count": 124,
   "metadata": {},
   "outputs": [],
   "source": [
    "# save to geo_polygons folder\n",
    "districts.to_csv(f'geo_polygons/{desc}_{year}.csv', index=False)"
   ]
  }
 ],
 "metadata": {
  "kernelspec": {
   "display_name": "Python 3",
   "language": "python",
   "name": "python3"
  },
  "language_info": {
   "codemirror_mode": {
    "name": "ipython",
    "version": 3
   },
   "file_extension": ".py",
   "mimetype": "text/x-python",
   "name": "python",
   "nbconvert_exporter": "python",
   "pygments_lexer": "ipython3",
   "version": "3.10.0"
  }
 },
 "nbformat": 4,
 "nbformat_minor": 2
}
