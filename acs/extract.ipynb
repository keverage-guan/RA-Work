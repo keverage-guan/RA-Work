{
 "cells": [
  {
   "cell_type": "code",
   "execution_count": 1,
   "metadata": {},
   "outputs": [],
   "source": [
    "import extract\n",
    "import pandas as pd\n",
    "import os\n",
    "import geopandas as gpd\n",
    "import numpy as np"
   ]
  },
  {
   "cell_type": "code",
   "execution_count": 2,
   "metadata": {},
   "outputs": [
    {
     "data": {
      "text/plain": [
       "<module 'extract' from 'd:\\\\Users\\\\User\\\\Downloads\\\\RA Work\\\\acs\\\\extract.py'>"
      ]
     },
     "execution_count": 2,
     "metadata": {},
     "output_type": "execute_result"
    }
   ],
   "source": [
    "import importlib\n",
    "importlib.reload(extract)"
   ]
  },
  {
   "cell_type": "code",
   "execution_count": 3,
   "metadata": {},
   "outputs": [],
   "source": [
    "# open state_fips\n",
    "state_fips = pd.read_csv('state_fips.csv')"
   ]
  },
  {
   "cell_type": "code",
   "execution_count": 4,
   "metadata": {},
   "outputs": [],
   "source": [
    "# for every folder in raw_tract_data\n",
    "for folder in os.listdir('raw_tract_data'):\n",
    "    # split folder into list by underscore\n",
    "    folder_tokens = folder.split('_')\n",
    "    \n",
    "    # get state column from state_fips where code is third item in list as int\n",
    "    state = state_fips[state_fips['code'] == int(folder_tokens[2])]['state'].values[0].lower()\n",
    "\n",
    "    # if last item in folder is 'tract' year is 2000, otherwise it is 20 + last two digits\n",
    "    year = '2020' if folder_tokens[-1] == 'tract' else '20' + folder_tokens[-1][-2:]\n",
    "\n",
    "    # if tract file already exists, skip\n",
    "    if os.path.exists(f'tract_polygons/{state}_tracts_{year}.csv'):\n",
    "        continue\n",
    "\n",
    "    # get the filepath of the shp file in the folder with the same name\n",
    "    shp_file = os.path.join('raw_tract_data', folder, folder + '.shp')\n",
    "\n",
    "    tract_geos = extract.read_tracts(shp_file)\n",
    "    \n",
    "    # save as acs\\tract_polygons\\berkeley_tracts_2010.csv\n",
    "    tract_geos.to_csv(f'tract_polygons/{state}_tracts_{year}.csv', index=False)"
   ]
  },
  {
   "cell_type": "code",
   "execution_count": 46,
   "metadata": {},
   "outputs": [],
   "source": [
    "# for alaska upper (weird KML)\n",
    "gpd.io.file.fiona.drvsupport.supported_drivers['KML'] = 'rw'\n",
    "districts = gpd.read_file('raw_geo_data\\\\alaska_upper_2022.kml', driver='KML')\n",
    "# rename Name to district\n",
    "districts = districts.rename(columns={'Name': 'district'})\n",
    "# only keep district and geometry\n",
    "districts = districts[['district', 'geometry']]\n",
    "# only keep the part of the district field in the form 0200A\n",
    "districts['district'] = districts['district'].str.extract(r'(\\d{4}[A-Z])')\n",
    "# only keep the last letter\n",
    "districts['district'] = districts['district'].str[-1]\n",
    "# save to geo_polygons folder as alaska_upper_districts_2022.csv\n",
    "# districts.to_csv('geo_polygons/alaska_upper_districts_2022.csv', index=False)"
   ]
  },
  {
   "cell_type": "code",
   "execution_count": 10,
   "metadata": {},
   "outputs": [
    {
     "data": {
      "text/plain": [
       "Index(['OBJECTID_1', 'OBJECTID_2', 'OBJECTID', 'CouncilDis', 'Councilor',\n",
       "       'Councilor_', 'Acres', 'Shape_Leng', 'Shape_Le_1', 'Shape_Le_2',\n",
       "       'Shape_Area', 'geometry'],\n",
       "      dtype='object')"
      ]
     },
     "execution_count": 10,
     "metadata": {},
     "output_type": "execute_result"
    }
   ],
   "source": [
    "# for SHP\n",
    "# read in shp\n",
    "districts = gpd.read_file(r'raw_geo_data\\Santa Fe Council Districts\\CouncilDistricts.shp')\n",
    "districts.columns"
   ]
  },
  {
   "cell_type": "code",
   "execution_count": 11,
   "metadata": {},
   "outputs": [],
   "source": [
    "# only keep district and geometry\n",
    "district_name = 'CouncilDis'\n",
    "year=2018\n",
    "desc='santa_fe_districts'\n",
    "districts = districts[[district_name, 'geometry']]\n",
    "# rename to district and convert to int\n",
    "districts = districts.rename(columns={district_name: 'district'})\n",
    "# set district to only last char\n",
    "districts['district'] = districts['district'].astype(int)"
   ]
  },
  {
   "cell_type": "code",
   "execution_count": 12,
   "metadata": {},
   "outputs": [
    {
     "data": {
      "text/html": [
       "<div>\n",
       "<style scoped>\n",
       "    .dataframe tbody tr th:only-of-type {\n",
       "        vertical-align: middle;\n",
       "    }\n",
       "\n",
       "    .dataframe tbody tr th {\n",
       "        vertical-align: top;\n",
       "    }\n",
       "\n",
       "    .dataframe thead th {\n",
       "        text-align: right;\n",
       "    }\n",
       "</style>\n",
       "<table border=\"1\" class=\"dataframe\">\n",
       "  <thead>\n",
       "    <tr style=\"text-align: right;\">\n",
       "      <th></th>\n",
       "      <th>district</th>\n",
       "      <th>geometry</th>\n",
       "    </tr>\n",
       "  </thead>\n",
       "  <tbody>\n",
       "    <tr>\n",
       "      <th>0</th>\n",
       "      <td>4</td>\n",
       "      <td>POLYGON ((-105.930 35.637, -105.931 35.636, -1...</td>\n",
       "    </tr>\n",
       "    <tr>\n",
       "      <th>1</th>\n",
       "      <td>2</td>\n",
       "      <td>POLYGON ((-105.895 35.686, -105.895 35.686, -1...</td>\n",
       "    </tr>\n",
       "    <tr>\n",
       "      <th>2</th>\n",
       "      <td>1</td>\n",
       "      <td>POLYGON ((-105.895 35.686, -105.895 35.686, -1...</td>\n",
       "    </tr>\n",
       "    <tr>\n",
       "      <th>3</th>\n",
       "      <td>3</td>\n",
       "      <td>POLYGON ((-106.036 35.650, -106.036 35.649, -1...</td>\n",
       "    </tr>\n",
       "  </tbody>\n",
       "</table>\n",
       "</div>"
      ],
      "text/plain": [
       "   district                                           geometry\n",
       "0         4  POLYGON ((-105.930 35.637, -105.931 35.636, -1...\n",
       "1         2  POLYGON ((-105.895 35.686, -105.895 35.686, -1...\n",
       "2         1  POLYGON ((-105.895 35.686, -105.895 35.686, -1...\n",
       "3         3  POLYGON ((-106.036 35.650, -106.036 35.649, -1..."
      ]
     },
     "execution_count": 12,
     "metadata": {},
     "output_type": "execute_result"
    }
   ],
   "source": [
    "districts"
   ]
  },
  {
   "cell_type": "code",
   "execution_count": 13,
   "metadata": {},
   "outputs": [],
   "source": [
    "# save to geo_polygons folder\n",
    "districts.to_csv(f'geo_polygons/{desc}_{year}.csv', index=False)"
   ]
  }
 ],
 "metadata": {
  "kernelspec": {
   "display_name": "Python 3",
   "language": "python",
   "name": "python3"
  },
  "language_info": {
   "codemirror_mode": {
    "name": "ipython",
    "version": 3
   },
   "file_extension": ".py",
   "mimetype": "text/x-python",
   "name": "python",
   "nbconvert_exporter": "python",
   "pygments_lexer": "ipython3",
   "version": "3.10.0"
  }
 },
 "nbformat": 4,
 "nbformat_minor": 2
}
