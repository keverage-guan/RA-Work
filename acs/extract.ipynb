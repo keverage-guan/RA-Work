{
 "cells": [
  {
   "cell_type": "code",
   "execution_count": 2,
   "metadata": {},
   "outputs": [],
   "source": [
    "import extract\n",
    "import pandas as pd\n",
    "import os\n",
    "import geopandas as gpd"
   ]
  },
  {
   "cell_type": "code",
   "execution_count": 3,
   "metadata": {},
   "outputs": [
    {
     "data": {
      "text/plain": [
       "<module 'extract' from 'd:\\\\Users\\\\User\\\\Downloads\\\\RA Work\\\\acs\\\\extract.py'>"
      ]
     },
     "execution_count": 3,
     "metadata": {},
     "output_type": "execute_result"
    }
   ],
   "source": [
    "import importlib\n",
    "importlib.reload(extract)"
   ]
  },
  {
   "cell_type": "code",
   "execution_count": 11,
   "metadata": {},
   "outputs": [],
   "source": [
    "# open state_fips\n",
    "state_fips = pd.read_csv('state_fips.csv')"
   ]
  },
  {
   "cell_type": "code",
   "execution_count": 10,
   "metadata": {},
   "outputs": [],
   "source": [
    "# for every folder in raw_tract_data\n",
    "for folder in os.listdir('raw_tract_data'):\n",
    "    # split folder into list by underscore\n",
    "    folder_tokens = folder.split('_')\n",
    "    \n",
    "    # get state column from state_fips where code is third item in list as int\n",
    "    state = state_fips[state_fips['code'] == int(folder_tokens[2])]['state'].values[0].lower()\n",
    "\n",
    "    # if last item in folder is 'tract' year is 2000, otherwise it is 20 + last two digits\n",
    "    year = '2020' if folder_tokens[-1] == 'tract' else '20' + folder_tokens[-1][-2:]\n",
    "\n",
    "    # if tract file already exists, skip\n",
    "    if os.path.exists(f'tract_polygons/{state}_tracts_{year}.csv'):\n",
    "        continue\n",
    "\n",
    "    # get the filepath of the shp file in the folder with the same name\n",
    "    shp_file = os.path.join('raw_tract_data', folder, folder + '.shp')\n",
    "\n",
    "    tract_geos = extract.read_tracts(shp_file)\n",
    "    \n",
    "    # save as acs\\tract_polygons\\berkeley_tracts_2010.csv\n",
    "    tract_geos.to_csv(f'tract_polygons/{state}_tracts_{year}.csv', index=False)"
   ]
  },
  {
   "cell_type": "code",
   "execution_count": 46,
   "metadata": {},
   "outputs": [],
   "source": [
    "# for alaska upper (weird KML)\n",
    "gpd.io.file.fiona.drvsupport.supported_drivers['KML'] = 'rw'\n",
    "districts = gpd.read_file('raw_geo_data\\\\alaska_upper_2022.kml', driver='KML')\n",
    "# rename Name to district\n",
    "districts = districts.rename(columns={'Name': 'district'})\n",
    "# only keep district and geometry\n",
    "districts = districts[['district', 'geometry']]\n",
    "# only keep the part of the district field in the form 0200A\n",
    "districts['district'] = districts['district'].str.extract(r'(\\d{4}[A-Z])')\n",
    "# only keep the last letter\n",
    "districts['district'] = districts['district'].str[-1]\n",
    "# save to geo_polygons folder as alaska_upper_districts_2022.csv\n",
    "# districts.to_csv('geo_polygons/alaska_upper_districts_2022.csv', index=False)"
   ]
  },
  {
   "cell_type": "code",
   "execution_count": 6,
   "metadata": {},
   "outputs": [
    {
     "data": {
      "text/html": [
       "<div>\n",
       "<style scoped>\n",
       "    .dataframe tbody tr th:only-of-type {\n",
       "        vertical-align: middle;\n",
       "    }\n",
       "\n",
       "    .dataframe tbody tr th {\n",
       "        vertical-align: top;\n",
       "    }\n",
       "\n",
       "    .dataframe thead th {\n",
       "        text-align: right;\n",
       "    }\n",
       "</style>\n",
       "<table border=\"1\" class=\"dataframe\">\n",
       "  <thead>\n",
       "    <tr style=\"text-align: right;\">\n",
       "      <th></th>\n",
       "      <th>ID</th>\n",
       "      <th>WARD</th>\n",
       "      <th>Area</th>\n",
       "      <th>Area_acre</th>\n",
       "      <th>geometry</th>\n",
       "    </tr>\n",
       "  </thead>\n",
       "  <tbody>\n",
       "    <tr>\n",
       "      <th>0</th>\n",
       "      <td>1</td>\n",
       "      <td>WARD 1</td>\n",
       "      <td>1.241621e+07</td>\n",
       "      <td>285.036880</td>\n",
       "      <td>POLYGON ((1308455.448 476329.557, 1308871.437 ...</td>\n",
       "    </tr>\n",
       "    <tr>\n",
       "      <th>1</th>\n",
       "      <td>2</td>\n",
       "      <td>WARD 2</td>\n",
       "      <td>1.218601e+07</td>\n",
       "      <td>279.752227</td>\n",
       "      <td>POLYGON ((1313784.759 480988.747, 1313645.375 ...</td>\n",
       "    </tr>\n",
       "    <tr>\n",
       "      <th>2</th>\n",
       "      <td>3</td>\n",
       "      <td>WARD 3</td>\n",
       "      <td>1.160095e+07</td>\n",
       "      <td>266.321108</td>\n",
       "      <td>POLYGON ((1308871.568 475921.040, 1309222.861 ...</td>\n",
       "    </tr>\n",
       "    <tr>\n",
       "      <th>3</th>\n",
       "      <td>4</td>\n",
       "      <td>WARD 4</td>\n",
       "      <td>4.759064e+06</td>\n",
       "      <td>109.253071</td>\n",
       "      <td>POLYGON ((1309056.321 481544.047, 1308233.986 ...</td>\n",
       "    </tr>\n",
       "    <tr>\n",
       "      <th>4</th>\n",
       "      <td>5</td>\n",
       "      <td>WARD 5</td>\n",
       "      <td>6.590607e+06</td>\n",
       "      <td>151.299507</td>\n",
       "      <td>POLYGON ((1313168.469 481037.974, 1313092.950 ...</td>\n",
       "    </tr>\n",
       "    <tr>\n",
       "      <th>5</th>\n",
       "      <td>6</td>\n",
       "      <td>WARD 6</td>\n",
       "      <td>9.955564e+06</td>\n",
       "      <td>228.548305</td>\n",
       "      <td>POLYGON ((1313833.542 480920.399, 1313844.711 ...</td>\n",
       "    </tr>\n",
       "  </tbody>\n",
       "</table>\n",
       "</div>"
      ],
      "text/plain": [
       "   ID    WARD          Area   Area_acre  \\\n",
       "0   1  WARD 1  1.241621e+07  285.036880   \n",
       "1   2  WARD 2  1.218601e+07  279.752227   \n",
       "2   3  WARD 3  1.160095e+07  266.321108   \n",
       "3   4  WARD 4  4.759064e+06  109.253071   \n",
       "4   5  WARD 5  6.590607e+06  151.299507   \n",
       "5   6  WARD 6  9.955564e+06  228.548305   \n",
       "\n",
       "                                            geometry  \n",
       "0  POLYGON ((1308455.448 476329.557, 1308871.437 ...  \n",
       "1  POLYGON ((1313784.759 480988.747, 1313645.375 ...  \n",
       "2  POLYGON ((1308871.568 475921.040, 1309222.861 ...  \n",
       "3  POLYGON ((1309056.321 481544.047, 1308233.986 ...  \n",
       "4  POLYGON ((1313168.469 481037.974, 1313092.950 ...  \n",
       "5  POLYGON ((1313833.542 480920.399, 1313844.711 ...  "
      ]
     },
     "execution_count": 6,
     "metadata": {},
     "output_type": "execute_result"
    }
   ],
   "source": [
    "# for SHP\n",
    "# read in shp\n",
    "districts = gpd.read_file(r'raw_geo_data\\Takoma Park Wards\\Wards.shp')\n",
    "districts"
   ]
  },
  {
   "cell_type": "code",
   "execution_count": 7,
   "metadata": {},
   "outputs": [],
   "source": [
    "# only keep district and geometry\n",
    "district_name = 'ID'\n",
    "year=2022\n",
    "desc='takoma_park_wards'\n",
    "districts = districts[[district_name, 'geometry']]\n",
    "# rename to district and convert to int\n",
    "districts = districts.rename(columns={district_name: 'district'})\n",
    "districts['district'] = districts['district'].astype(int)"
   ]
  },
  {
   "cell_type": "code",
   "execution_count": 8,
   "metadata": {},
   "outputs": [
    {
     "data": {
      "text/html": [
       "<div>\n",
       "<style scoped>\n",
       "    .dataframe tbody tr th:only-of-type {\n",
       "        vertical-align: middle;\n",
       "    }\n",
       "\n",
       "    .dataframe tbody tr th {\n",
       "        vertical-align: top;\n",
       "    }\n",
       "\n",
       "    .dataframe thead th {\n",
       "        text-align: right;\n",
       "    }\n",
       "</style>\n",
       "<table border=\"1\" class=\"dataframe\">\n",
       "  <thead>\n",
       "    <tr style=\"text-align: right;\">\n",
       "      <th></th>\n",
       "      <th>district</th>\n",
       "      <th>geometry</th>\n",
       "    </tr>\n",
       "  </thead>\n",
       "  <tbody>\n",
       "    <tr>\n",
       "      <th>0</th>\n",
       "      <td>1</td>\n",
       "      <td>POLYGON ((1308455.448 476329.557, 1308871.437 ...</td>\n",
       "    </tr>\n",
       "    <tr>\n",
       "      <th>1</th>\n",
       "      <td>2</td>\n",
       "      <td>POLYGON ((1313784.759 480988.747, 1313645.375 ...</td>\n",
       "    </tr>\n",
       "    <tr>\n",
       "      <th>2</th>\n",
       "      <td>3</td>\n",
       "      <td>POLYGON ((1308871.568 475921.040, 1309222.861 ...</td>\n",
       "    </tr>\n",
       "    <tr>\n",
       "      <th>3</th>\n",
       "      <td>4</td>\n",
       "      <td>POLYGON ((1309056.321 481544.047, 1308233.986 ...</td>\n",
       "    </tr>\n",
       "    <tr>\n",
       "      <th>4</th>\n",
       "      <td>5</td>\n",
       "      <td>POLYGON ((1313168.469 481037.974, 1313092.950 ...</td>\n",
       "    </tr>\n",
       "    <tr>\n",
       "      <th>5</th>\n",
       "      <td>6</td>\n",
       "      <td>POLYGON ((1313833.542 480920.399, 1313844.711 ...</td>\n",
       "    </tr>\n",
       "  </tbody>\n",
       "</table>\n",
       "</div>"
      ],
      "text/plain": [
       "   district                                           geometry\n",
       "0         1  POLYGON ((1308455.448 476329.557, 1308871.437 ...\n",
       "1         2  POLYGON ((1313784.759 480988.747, 1313645.375 ...\n",
       "2         3  POLYGON ((1308871.568 475921.040, 1309222.861 ...\n",
       "3         4  POLYGON ((1309056.321 481544.047, 1308233.986 ...\n",
       "4         5  POLYGON ((1313168.469 481037.974, 1313092.950 ...\n",
       "5         6  POLYGON ((1313833.542 480920.399, 1313844.711 ..."
      ]
     },
     "execution_count": 8,
     "metadata": {},
     "output_type": "execute_result"
    }
   ],
   "source": [
    "districts"
   ]
  },
  {
   "cell_type": "code",
   "execution_count": 9,
   "metadata": {},
   "outputs": [],
   "source": [
    "# save to geo_polygons folder\n",
    "districts.to_csv(f'geo_polygons/{desc}_{year}.csv', index=False)"
   ]
  }
 ],
 "metadata": {
  "kernelspec": {
   "display_name": "Python 3",
   "language": "python",
   "name": "python3"
  },
  "language_info": {
   "codemirror_mode": {
    "name": "ipython",
    "version": 3
   },
   "file_extension": ".py",
   "mimetype": "text/x-python",
   "name": "python",
   "nbconvert_exporter": "python",
   "pygments_lexer": "ipython3",
   "version": "3.10.0"
  }
 },
 "nbformat": 4,
 "nbformat_minor": 2
}
