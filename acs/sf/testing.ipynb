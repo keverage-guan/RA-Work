{
 "cells": [
  {
   "cell_type": "code",
   "execution_count": 1,
   "metadata": {},
   "outputs": [],
   "source": [
    "import numpy as np\n",
    "import random"
   ]
  },
  {
   "cell_type": "code",
   "execution_count": 4,
   "metadata": {},
   "outputs": [
    {
     "name": "stdout",
     "output_type": "stream",
     "text": [
      "1.69641\n"
     ]
    }
   ],
   "source": [
    "# do 100000 trials\n",
    "# given a poisson rate of 3, generate a random arrival time with exponential distribution called car\n",
    "# given a poisson rate of 5, generate a random arrival time called bus\n",
    "# if car arrived before bus, add arrival time of car to a sum\n",
    "# find average of the sum\n",
    "\n",
    "sum = 0\n",
    "Lambda = 3\n",
    "mu = 5\n",
    "\n",
    "for i in range(100000):\n",
    "    car = np.random.exponential(Lambda)\n",
    "    bus = np.random.exponential(mu)\n",
    "    if car < bus:\n",
    "        sum += car\n",
    "\n",
    "print(sum/100000)"
   ]
  },
  {
   "cell_type": "code",
   "execution_count": 5,
   "metadata": {},
   "outputs": [
    {
     "data": {
      "text/plain": [
       "-15"
      ]
     },
     "execution_count": 5,
     "metadata": {},
     "output_type": "execute_result"
    }
   ],
   "source": [
    "(Lambda + mu)^2 - (Lambda + mu)^3"
   ]
  }
 ],
 "metadata": {
  "kernelspec": {
   "display_name": "Python 3",
   "language": "python",
   "name": "python3"
  },
  "language_info": {
   "codemirror_mode": {
    "name": "ipython",
    "version": 3
   },
   "file_extension": ".py",
   "mimetype": "text/x-python",
   "name": "python",
   "nbconvert_exporter": "python",
   "pygments_lexer": "ipython3",
   "version": "3.10.0"
  }
 },
 "nbformat": 4,
 "nbformat_minor": 2
}
