{
 "cells": [
  {
   "cell_type": "code",
   "execution_count": 38,
   "metadata": {},
   "outputs": [],
   "source": [
    "import pandas as pd\n",
    "# import tkinter\n",
    "from tkinter import *"
   ]
  },
  {
   "cell_type": "code",
   "execution_count": 39,
   "metadata": {},
   "outputs": [],
   "source": [
    "# import subset2_forkevin.xlsx\n",
    "df = pd.read_excel('subset2_forkevin.xlsx')"
   ]
  },
  {
   "cell_type": "code",
   "execution_count": 40,
   "metadata": {},
   "outputs": [
    {
     "name": "stdout",
     "output_type": "stream",
     "text": [
      "2811\n"
     ]
    },
    {
     "data": {
      "text/plain": [
       "'2238378825664on_enter'"
      ]
     },
     "execution_count": 40,
     "metadata": {},
     "output_type": "execute_result"
    }
   ],
   "source": [
    "questions = ['Policy?', 'Proposal/Past?', 'Risky/Not-Risky?', 'Keywords']\n",
    "question_num = 0\n",
    "\n",
    "# set row_num equal to row num of first row where Policy? is NaN\n",
    "row_num = df[df['Policy?'].isnull()].index[0]\n",
    "\n",
    "print(row_num)\n",
    "\n",
    "# create a Tkinter window\n",
    "root = Tk()\n",
    "root.title('Snippets')\n",
    "\n",
    "snippet = df.iloc[row_num]['Snippets']\n",
    "\n",
    "# add text with snippet Calibri size 16\n",
    "text = Text(root, font=('Calibri', 16), wrap=WORD)\n",
    "text.insert(INSERT, snippet)\n",
    "text.pack()\n",
    "\n",
    "# add text that cycles through question\n",
    "label = Label(root, text=questions[question_num])\n",
    "label.pack()\n",
    "\n",
    "# add text entry for user to input number\n",
    "entry = Entry(root)\n",
    "entry.pack()\n",
    "\n",
    "# when user presses enter, get the text in the box\n",
    "\n",
    "def on_enter(event):\n",
    "    global question_num\n",
    "    global row_num\n",
    "\n",
    "    while True:\n",
    "        # get the number from the entry\n",
    "        value = entry.get()\n",
    "\n",
    "        valid = True\n",
    "\n",
    "        if question_num < 3:\n",
    "            try:\n",
    "                value = float(value)\n",
    "            except ValueError:\n",
    "                entry.delete(0, END)\n",
    "                return\n",
    "\n",
    "            if (question_num in [0, 2] and value not in [0, 1]) or (question_num == 1 and value not in [0, 0.5, 1]):\n",
    "                valid = False\n",
    "                entry.delete(0, END)\n",
    "                return\n",
    "\n",
    "        if valid:\n",
    "            break\n",
    "    \n",
    "    # set the value of the cell to the number\n",
    "    df.iloc[row_num, df.columns.get_loc(questions[question_num])] = value\n",
    "    \n",
    "    # increment question_num\n",
    "    question_num += 1\n",
    "    \n",
    "    # if question_num is 1 and value is 0, reset question_num to 0 and increment row_num\n",
    "    if question_num == 1 and value == 0:\n",
    "        question_num = 0\n",
    "        row_num += 1\n",
    "    # if question_num is 4, reset question_num to 0\n",
    "    elif question_num == 4:\n",
    "        question_num = 0\n",
    "        row_num += 1\n",
    "    \n",
    "    # update the label\n",
    "    label.config(text=questions[question_num])\n",
    "    \n",
    "    # update the snippet if row_num is different\n",
    "    if row_num != 0:\n",
    "        snippet = df.iloc[row_num]['Snippets']\n",
    "        text.delete(1.0, END)\n",
    "        text.insert(INSERT, snippet)\n",
    "    \n",
    "    # clear the entry0\n",
    "    entry.delete(0, END)\n",
    "\n",
    "root.bind('<Return>', on_enter)"
   ]
  },
  {
   "cell_type": "code",
   "execution_count": 41,
   "metadata": {},
   "outputs": [
    {
     "ename": "KeyboardInterrupt",
     "evalue": "",
     "output_type": "error",
     "traceback": [
      "\u001b[1;31m---------------------------------------------------------------------------\u001b[0m",
      "\u001b[1;31mKeyboardInterrupt\u001b[0m                         Traceback (most recent call last)",
      "Cell \u001b[1;32mIn[41], line 2\u001b[0m\n\u001b[0;32m      1\u001b[0m \u001b[38;5;66;03m# run the Tkinter window\u001b[39;00m\n\u001b[1;32m----> 2\u001b[0m \u001b[43mroot\u001b[49m\u001b[38;5;241;43m.\u001b[39;49m\u001b[43mmainloop\u001b[49m\u001b[43m(\u001b[49m\u001b[43m)\u001b[49m\n",
      "File \u001b[1;32mc:\\Users\\kevin\\AppData\\Local\\Programs\\Python\\Python310\\lib\\tkinter\\__init__.py:1458\u001b[0m, in \u001b[0;36mMisc.mainloop\u001b[1;34m(self, n)\u001b[0m\n\u001b[0;32m   1456\u001b[0m \u001b[38;5;28;01mdef\u001b[39;00m \u001b[38;5;21mmainloop\u001b[39m(\u001b[38;5;28mself\u001b[39m, n\u001b[38;5;241m=\u001b[39m\u001b[38;5;241m0\u001b[39m):\n\u001b[0;32m   1457\u001b[0m \u001b[38;5;250m    \u001b[39m\u001b[38;5;124;03m\"\"\"Call the mainloop of Tk.\"\"\"\u001b[39;00m\n\u001b[1;32m-> 1458\u001b[0m     \u001b[38;5;28;43mself\u001b[39;49m\u001b[38;5;241;43m.\u001b[39;49m\u001b[43mtk\u001b[49m\u001b[38;5;241;43m.\u001b[39;49m\u001b[43mmainloop\u001b[49m\u001b[43m(\u001b[49m\u001b[43mn\u001b[49m\u001b[43m)\u001b[49m\n",
      "\u001b[1;31mKeyboardInterrupt\u001b[0m: "
     ]
    },
    {
     "ename": "",
     "evalue": "",
     "output_type": "error",
     "traceback": [
      "\u001b[1;31mThe Kernel crashed while executing code in the current cell or a previous cell. \n",
      "\u001b[1;31mPlease review the code in the cell(s) to identify a possible cause of the failure. \n",
      "\u001b[1;31mClick <a href='https://aka.ms/vscodeJupyterKernelCrash'>here</a> for more info. \n",
      "\u001b[1;31mView Jupyter <a href='command:jupyter.viewOutput'>log</a> for further details."
     ]
    }
   ],
   "source": [
    "# run the Tkinter window\n",
    "root.mainloop()"
   ]
  },
  {
   "cell_type": "code",
   "execution_count": null,
   "metadata": {},
   "outputs": [],
   "source": [
    "# save df to subset2_forkevin.xlsx\n",
    "df.to_excel('subset2_forkevin.xlsx', index=False)"
   ]
  }
 ],
 "metadata": {
  "kernelspec": {
   "display_name": "Python 3",
   "language": "python",
   "name": "python3"
  },
  "language_info": {
   "codemirror_mode": {
    "name": "ipython",
    "version": 3
   },
   "file_extension": ".py",
   "mimetype": "text/x-python",
   "name": "python",
   "nbconvert_exporter": "python",
   "pygments_lexer": "ipython3",
   "version": "3.10.8"
  }
 },
 "nbformat": 4,
 "nbformat_minor": 2
}
