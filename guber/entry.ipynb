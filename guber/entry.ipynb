{
 "cells": [
  {
   "cell_type": "code",
   "execution_count": 66,
   "metadata": {},
   "outputs": [],
   "source": [
    "import pandas as pd\n",
    "# import tkinter\n",
    "from tkinter import *"
   ]
  },
  {
   "cell_type": "code",
   "execution_count": 67,
   "metadata": {},
   "outputs": [],
   "source": [
    "# import subset2_forkevin.xlsx\n",
    "df = pd.read_excel('flask_ui/subset2_forkevin.xlsx')"
   ]
  },
  {
   "cell_type": "code",
   "execution_count": 68,
   "metadata": {},
   "outputs": [
    {
     "name": "stdout",
     "output_type": "stream",
     "text": [
      "3993\n"
     ]
    },
    {
     "data": {
      "text/plain": [
       "'5238364480on_enter'"
      ]
     },
     "execution_count": 68,
     "metadata": {},
     "output_type": "execute_result"
    }
   ],
   "source": [
    "questions = ['Policy?', 'Proposal/Past?', 'Risky/Not-Risky?', 'Keywords']\n",
    "question_num = 0\n",
    "\n",
    "# set row_num equal to row num of first row where Policy? is NaN\n",
    "row_num = df[df['Policy?'].isnull()].index[0]\n",
    "\n",
    "print(row_num)\n",
    "\n",
    "# create a Tkinter window\n",
    "root = Tk()\n",
    "root.title('Snippets')\n",
    "\n",
    "snippet = df.iloc[row_num]['Snippets']\n",
    "\n",
    "# add text with snippet Calibri size 16\n",
    "text = Text(root, font=('Calibri', 16), wrap=WORD)\n",
    "text.insert(INSERT, snippet)\n",
    "text.pack()\n",
    "\n",
    "# add text that cycles through question\n",
    "label = Label(root, text=questions[question_num])\n",
    "label.pack()\n",
    "\n",
    "# add text entry for user to input number\n",
    "entry = Entry(root)\n",
    "entry.pack()\n",
    "\n",
    "# when user presses enter, get the text in the box\n",
    "\n",
    "def on_enter(event):\n",
    "    global question_num\n",
    "    global row_num\n",
    "\n",
    "    while True:\n",
    "        # get the number from the entry\n",
    "        value = entry.get()\n",
    "\n",
    "        valid = True\n",
    "\n",
    "        if question_num < 3:\n",
    "            try:\n",
    "                value = float(value)\n",
    "            except ValueError:\n",
    "                entry.delete(0, END)\n",
    "                return\n",
    "\n",
    "            if (question_num in [0, 2] and value not in [0, 1]) or (question_num == 1 and value not in [0, 0.5, 1]):\n",
    "                valid = False\n",
    "                entry.delete(0, END)\n",
    "                return\n",
    "\n",
    "        if valid:\n",
    "            break\n",
    "    \n",
    "    # set the value of the cell to the number\n",
    "    df.iloc[row_num, df.columns.get_loc(questions[question_num])] = value\n",
    "    \n",
    "    # increment question_num\n",
    "    question_num += 1\n",
    "    \n",
    "    # if question_num is 1 and value is 0, reset question_num to 0 and increment row_num\n",
    "    if question_num == 1 and value == 0:\n",
    "        question_num = 0\n",
    "        row_num += 1\n",
    "    # if question_num is 4, reset question_num to 0\n",
    "    elif question_num == 4:\n",
    "        question_num = 0\n",
    "        row_num += 1\n",
    "    \n",
    "    # update the label\n",
    "    label.config(text=questions[question_num])\n",
    "    \n",
    "    # update the snippet if row_num is different\n",
    "    if row_num != 0:\n",
    "        snippet = df.iloc[row_num]['Snippets']\n",
    "        text.delete(1.0, END)\n",
    "        text.insert(INSERT, snippet)\n",
    "    \n",
    "    # clear the entry0\n",
    "    entry.delete(0, END)\n",
    "\n",
    "root.bind('<Return>', on_enter)"
   ]
  },
  {
   "cell_type": "code",
   "execution_count": 69,
   "metadata": {},
   "outputs": [
    {
     "name": "stderr",
     "output_type": "stream",
     "text": [
      "Exception in Tkinter callback\n",
      "Traceback (most recent call last):\n",
      "  File \"/Library/Frameworks/Python.framework/Versions/3.12/lib/python3.12/tkinter/__init__.py\", line 1967, in __call__\n",
      "    return self.func(*args)\n",
      "           ^^^^^^^^^^^^^^^^\n",
      "  File \"/var/folders/52/t8__xqw525g96s6z30kmvnfr0000gp/T/ipykernel_50513/70056210.py\", line 75, in on_enter\n",
      "    snippet = df.iloc[row_num]['Snippets']\n",
      "              ~~~~~~~^^^^^^^^^\n",
      "  File \"/Library/Frameworks/Python.framework/Versions/3.12/lib/python3.12/site-packages/pandas/core/indexing.py\", line 1191, in __getitem__\n",
      "    return self._getitem_axis(maybe_callable, axis=axis)\n",
      "           ^^^^^^^^^^^^^^^^^^^^^^^^^^^^^^^^^^^^^^^^^^^^^\n",
      "  File \"/Library/Frameworks/Python.framework/Versions/3.12/lib/python3.12/site-packages/pandas/core/indexing.py\", line 1752, in _getitem_axis\n",
      "    self._validate_integer(key, axis)\n",
      "  File \"/Library/Frameworks/Python.framework/Versions/3.12/lib/python3.12/site-packages/pandas/core/indexing.py\", line 1685, in _validate_integer\n",
      "    raise IndexError(\"single positional indexer is out-of-bounds\")\n",
      "IndexError: single positional indexer is out-of-bounds\n"
     ]
    }
   ],
   "source": [
    "# run the Tkinter window\n",
    "root.mainloop()"
   ]
  },
  {
   "cell_type": "code",
   "execution_count": 70,
   "metadata": {},
   "outputs": [],
   "source": [
    "# save df to subset2_forkevin.xlsx\n",
    "df.to_excel('flask_ui/subset2_forkevin.xlsx', index=False)"
   ]
  }
 ],
 "metadata": {
  "kernelspec": {
   "display_name": "Python 3",
   "language": "python",
   "name": "python3"
  },
  "language_info": {
   "codemirror_mode": {
    "name": "ipython",
    "version": 3
   },
   "file_extension": ".py",
   "mimetype": "text/x-python",
   "name": "python",
   "nbconvert_exporter": "python",
   "pygments_lexer": "ipython3",
   "version": "3.12.3"
  }
 },
 "nbformat": 4,
 "nbformat_minor": 2
}
