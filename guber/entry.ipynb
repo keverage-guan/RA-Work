{
 "cells": [
  {
   "cell_type": "code",
   "execution_count": 92,
   "metadata": {},
   "outputs": [],
   "source": [
    "import pandas as pd\n",
    "# import tkinter\n",
    "from tkinter import *"
   ]
  },
  {
   "cell_type": "code",
   "execution_count": 93,
   "metadata": {},
   "outputs": [],
   "source": [
    "# import subset2_forkevin.xlsx\n",
    "df = pd.read_excel('subset2_forkevin.xlsx')"
   ]
  },
  {
   "cell_type": "code",
   "execution_count": 94,
   "metadata": {},
   "outputs": [
    {
     "data": {
      "text/plain": [
       "'3091568219776on_enter'"
      ]
     },
     "execution_count": 94,
     "metadata": {},
     "output_type": "execute_result"
    }
   ],
   "source": [
    "questions = ['Policy?', 'Proposal/Past?', 'Risky/Not-Risky?', 'Keywords']\n",
    "question_num = 0\n",
    "row_num = 0\n",
    "\n",
    "# create a Tkinter window\n",
    "root = Tk()\n",
    "root.title('Snippets')\n",
    "\n",
    "# only take rows where Policy? column is NaN\n",
    "df = df[df['Policy?'].isnull()]\n",
    "\n",
    "snippet = df.iloc[0]['Snippets']\n",
    "\n",
    "# add text with snippet Calibri size 16\n",
    "text = Text(root, font=('Calibri', 16), wrap=WORD)\n",
    "text.insert(INSERT, snippet)\n",
    "text.pack()\n",
    "\n",
    "# add text that cycles through question\n",
    "label = Label(root, text=questions[question_num])\n",
    "label.pack()\n",
    "\n",
    "# add text entry for user to input number\n",
    "entry = Entry(root)\n",
    "entry.pack()\n",
    "\n",
    "# when user presses enter, get the text in the box\n",
    "\n",
    "def on_enter(event):\n",
    "    global question_num\n",
    "    global row_num\n",
    "\n",
    "    while True:\n",
    "        # get the number from the entry\n",
    "        value = entry.get()\n",
    "\n",
    "        valid = True\n",
    "\n",
    "        if question_num < 3:\n",
    "            try:\n",
    "                value = int(value)\n",
    "            except ValueError:\n",
    "                valid = False\n",
    "\n",
    "        if (question_num in [0, 2] and value not in [0, 1]) or (question_num == 1 and value not in [0, 0.5, 1]):\n",
    "            valid = False\n",
    "\n",
    "            entry.delete(0, END)\n",
    "\n",
    "        if valid:\n",
    "            break\n",
    "    \n",
    "    # set the value of the cell to the number\n",
    "    df.iloc[row_num, df.columns.get_loc(questions[question_num])] = value\n",
    "    \n",
    "    # increment question_num\n",
    "    question_num += 1\n",
    "    \n",
    "    # if question_num is 1 and value is 0, reset question_num to 0 and increment row_num\n",
    "    if question_num == 1 and value == 0:\n",
    "        question_num = 0\n",
    "        row_num += 1\n",
    "    # if question_num is 4, reset question_num to 0\n",
    "    elif question_num == 4:\n",
    "        question_num = 0\n",
    "        row_num += 1\n",
    "    \n",
    "    # update the label\n",
    "    label.config(text=questions[question_num])\n",
    "    \n",
    "    # update the snippet if row_num is different\n",
    "    if row_num != 0:\n",
    "        snippet = df.iloc[row_num]['Snippets']\n",
    "        text.delete(1.0, END)\n",
    "        text.insert(INSERT, snippet)\n",
    "    \n",
    "    # clear the entry\n",
    "    entry.delete(0, END)\n",
    "\n",
    "root.bind('<Return>', on_enter)"
   ]
  },
  {
   "cell_type": "code",
   "execution_count": 95,
   "metadata": {},
   "outputs": [
    {
     "name": "stderr",
     "output_type": "stream",
     "text": [
      "Exception in Tkinter callback\n",
      "Traceback (most recent call last):\n",
      "  File \"c:\\Users\\User\\AppData\\Local\\Programs\\Python\\Python310\\lib\\tkinter\\__init__.py\", line 1921, in __call__\n",
      "    return self.func(*args)\n",
      "  File \"C:\\Users\\User\\AppData\\Local\\Temp\\ipykernel_9784\\1535429222.py\", line 40, in on_enter\n",
      "    value = float(value)\n",
      "ValueError: could not convert string to float: 'flat'\n",
      "Exception in Tkinter callback\n",
      "Traceback (most recent call last):\n",
      "  File \"c:\\Users\\User\\AppData\\Local\\Programs\\Python\\Python310\\lib\\tkinter\\__init__.py\", line 1921, in __call__\n",
      "    return self.func(*args)\n",
      "  File \"C:\\Users\\User\\AppData\\Local\\Temp\\ipykernel_9784\\1535429222.py\", line 40, in on_enter\n",
      "    value = float(value)\n",
      "ValueError: could not convert string to float: 'flat'\n",
      "Exception in Tkinter callback\n",
      "Traceback (most recent call last):\n",
      "  File \"c:\\Users\\User\\AppData\\Local\\Programs\\Python\\Python310\\lib\\tkinter\\__init__.py\", line 1921, in __call__\n",
      "    return self.func(*args)\n",
      "  File \"C:\\Users\\User\\AppData\\Local\\Temp\\ipykernel_9784\\1535429222.py\", line 40, in on_enter\n",
      "    value = float(value)\n",
      "ValueError: could not convert string to float: 'flat'\n",
      "Exception in Tkinter callback\n",
      "Traceback (most recent call last):\n",
      "  File \"c:\\Users\\User\\AppData\\Local\\Programs\\Python\\Python310\\lib\\tkinter\\__init__.py\", line 1921, in __call__\n",
      "    return self.func(*args)\n",
      "  File \"C:\\Users\\User\\AppData\\Local\\Temp\\ipykernel_9784\\1535429222.py\", line 40, in on_enter\n",
      "    value = float(value)\n",
      "ValueError: could not convert string to float: ''\n",
      "Exception in Tkinter callback\n",
      "Traceback (most recent call last):\n",
      "  File \"c:\\Users\\User\\AppData\\Local\\Programs\\Python\\Python310\\lib\\tkinter\\__init__.py\", line 1921, in __call__\n",
      "    return self.func(*args)\n",
      "  File \"C:\\Users\\User\\AppData\\Local\\Temp\\ipykernel_9784\\1535429222.py\", line 40, in on_enter\n",
      "    value = float(value)\n",
      "ValueError: could not convert string to float: ''\n",
      "Exception in Tkinter callback\n",
      "Traceback (most recent call last):\n",
      "  File \"c:\\Users\\User\\AppData\\Local\\Programs\\Python\\Python310\\lib\\tkinter\\__init__.py\", line 1921, in __call__\n",
      "    return self.func(*args)\n",
      "  File \"C:\\Users\\User\\AppData\\Local\\Temp\\ipykernel_9784\\1535429222.py\", line 40, in on_enter\n",
      "    value = float(value)\n",
      "ValueError: could not convert string to float: ''\n",
      "Exception in Tkinter callback\n",
      "Traceback (most recent call last):\n",
      "  File \"c:\\Users\\User\\AppData\\Local\\Programs\\Python\\Python310\\lib\\tkinter\\__init__.py\", line 1921, in __call__\n",
      "    return self.func(*args)\n",
      "  File \"C:\\Users\\User\\AppData\\Local\\Temp\\ipykernel_9784\\1535429222.py\", line 40, in on_enter\n",
      "    value = float(value)\n",
      "ValueError: could not convert string to float: 'glosy'\n"
     ]
    }
   ],
   "source": [
    "# run the Tkinter window\n",
    "root.mainloop()"
   ]
  },
  {
   "cell_type": "code",
   "execution_count": 96,
   "metadata": {},
   "outputs": [],
   "source": [
    "# save df to subset2_forkevin.xlsx\n",
    "df.to_excel('subset2_forkevin.xlsx', index=False)"
   ]
  }
 ],
 "metadata": {
  "kernelspec": {
   "display_name": "Python 3",
   "language": "python",
   "name": "python3"
  },
  "language_info": {
   "codemirror_mode": {
    "name": "ipython",
    "version": 3
   },
   "file_extension": ".py",
   "mimetype": "text/x-python",
   "name": "python",
   "nbconvert_exporter": "python",
   "pygments_lexer": "ipython3",
   "version": "3.10.0"
  }
 },
 "nbformat": 4,
 "nbformat_minor": 2
}
