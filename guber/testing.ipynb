{
 "cells": [
  {
   "cell_type": "code",
   "execution_count": 1,
   "metadata": {},
   "outputs": [],
   "source": [
    "import random"
   ]
  },
  {
   "cell_type": "code",
   "execution_count": 24,
   "metadata": {},
   "outputs": [
    {
     "name": "stdout",
     "output_type": "stream",
     "text": [
      "7.0013\n"
     ]
    }
   ],
   "source": [
    "N = 10000\n",
    "counter = 0\n",
    "for i in range(N):\n",
    "    x = 3\n",
    "    days = 0\n",
    "    while x != 1:\n",
    "        # let y be random from 0 to 1\n",
    "        y = random.random()\n",
    "        if x != 5:\n",
    "            if y < 0.5:\n",
    "                x += 1\n",
    "        else:\n",
    "            if y < 1/3:\n",
    "                x = 1\n",
    "        days += 1\n",
    "    counter += days\n",
    "print(counter/N)"
   ]
  },
  {
   "cell_type": "code",
   "execution_count": 19,
   "metadata": {},
   "outputs": [
    {
     "name": "stdout",
     "output_type": "stream",
     "text": [
      "Average eaten: 77.22624\n"
     ]
    }
   ],
   "source": [
    "# EATING M&Ms\n",
    "N = 200000\n",
    "\n",
    "counter = 0\n",
    "for i in range(N):\n",
    "    eaten = 0\n",
    "    found = []\n",
    "    while len(found) < 6:\n",
    "        # pick random number from 1 to 6 inclusive uniform\n",
    "        picked = random.randint(1, 6)\n",
    "        if picked not in found:\n",
    "            found.append(picked)\n",
    "        else: \n",
    "            found.remove(picked)\n",
    "            eaten += 2\n",
    "    counter += eaten\n",
    "# print average eaten\n",
    "print(f\"Average eaten: {counter/N}\")"
   ]
  },
  {
   "cell_type": "code",
   "execution_count": 3,
   "metadata": {},
   "outputs": [
    {
     "name": "stdout",
     "output_type": "stream",
     "text": [
      "Average eaten: 4.498335\n"
     ]
    }
   ],
   "source": [
    "# EATING M&Ms\n",
    "N = 200000\n",
    "\n",
    "counter = 0\n",
    "for i in range(N):\n",
    "    picked = 0\n",
    "    found = []\n",
    "    while len(found) < 6:\n",
    "        # pick random number from 1 to 6 inclusive uniform\n",
    "        picked = random.randint(1, 6)\n",
    "        if picked not in found:\n",
    "            found.append(picked)\n",
    "        picked += 1\n",
    "    counter += picked\n",
    "# print average eaten\n",
    "print(f\"Average picked: {counter/N}\")"
   ]
  }
 ],
 "metadata": {
  "kernelspec": {
   "display_name": "Python 3",
   "language": "python",
   "name": "python3"
  },
  "language_info": {
   "codemirror_mode": {
    "name": "ipython",
    "version": 3
   },
   "file_extension": ".py",
   "mimetype": "text/x-python",
   "name": "python",
   "nbconvert_exporter": "python",
   "pygments_lexer": "ipython3",
   "version": "3.10.0"
  }
 },
 "nbformat": 4,
 "nbformat_minor": 2
}
