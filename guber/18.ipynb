{
 "cells": [
  {
   "cell_type": "code",
   "execution_count": 209,
   "metadata": {},
   "outputs": [],
   "source": [
    "import numpy as np\n",
    "import matplotlib.pyplot as plt"
   ]
  },
  {
   "cell_type": "code",
   "execution_count": 236,
   "metadata": {},
   "outputs": [],
   "source": [
    "mu_x = 0\n",
    "mu_y = 0\n",
    "\n",
    "sigma_x = 1\n",
    "sigma_y = 1\n",
    "\n",
    "# let rho be random from 0 to 1\n",
    "rho = np.random.rand()\n",
    "# rho = 0"
   ]
  },
  {
   "cell_type": "code",
   "execution_count": 237,
   "metadata": {},
   "outputs": [
    {
     "name": "stdout",
     "output_type": "stream",
     "text": [
      "E[max{X, Y}]:0.36099281252774906\n",
      "E[max{X, Y}^2]:1.001068802017889\n",
      "E[max{X^2, Y^2}]: 1.5088666155486348\n",
      "Var(max{X, Y}):0.8707529913211943\n"
     ]
    }
   ],
   "source": [
    "N = 200000\n",
    "\n",
    "maxes = []\n",
    "maxes_squared =[]\n",
    "maxes_of_squares = []\n",
    "thetas = []\n",
    "for i in range(N):\n",
    "    # pick random z and w in standard normal\n",
    "    z = np.random.randn()\n",
    "    w = np.random.randn()\n",
    "\n",
    "    # let x = mu_x + sigm_x*z\n",
    "    x = mu_x + sigma_x*z\n",
    "    # let y = mu_y + sigma_y*(rho*z + sqrt(1 - rho^2)*w)\n",
    "    y = mu_y + sigma_y*(rho*z + np.sqrt(1 - rho**2)*w)\n",
    "\n",
    "    maxes.append(max(x, y))\n",
    "    maxes_squared.append(max(x, y)**2)\n",
    "    maxes_of_squares.append(max(x**2, y**2))\n",
    "    # append arctan of x/y\n",
    "    thetas.append(np.arctan2(x, y))\n",
    "\n",
    "# print average of maxes\n",
    "print(\"E[max{X, Y}]:\" + str(np.mean(maxes)))\n",
    "print(\"E[max{X, Y}^2]:\" + str(np.mean(maxes_squared)))\n",
    "print(\"E[max{X^2, Y^2}]: \" + str(np.mean(maxes_of_squares)))\n",
    "# print var of maxes\n",
    "print(\"Var(max{X, Y}):\" + str(np.var(maxes)))\n",
    "\n",
    "# graph normalized thetas\n",
    "# plt.hist(thetas, bins=100, density=True)\n",
    "# plt.show()"
   ]
  },
  {
   "cell_type": "code",
   "execution_count": 238,
   "metadata": {},
   "outputs": [
    {
     "name": "stdout",
     "output_type": "stream",
     "text": [
      "E[max{X, Y}]: 0.3578329308332535\n",
      "E[max{X, Y}^2]: 1\n",
      "E[max{X^2, Y^2}]: 1.5103733176438117\n",
      "Var(max{X, Y}):0.8719555936112839\n",
      "0.5977366335559439\n"
     ]
    }
   ],
   "source": [
    "# print sqrt((1 - rho*sigma_x*sigma_y)/pi)\n",
    "print(\"E[max{X, Y}]: \" + str(np.sqrt((1 - rho*sigma_x*sigma_y)/np.pi)))\n",
    "\n",
    "print(\"E[max{X, Y}^2]: 1\")\n",
    "\n",
    "# print 1 + sqrt(4 - p^2)/pi\n",
    "print(\"E[max{X^2, Y^2}]: \" + str(1 + 2*np.sqrt(1-rho**2)/np.pi))\n",
    "\n",
    "# print 1 - (1-p)/pi\n",
    "print(\"Var(max{X, Y}):\" + str(1 - (1 - rho)/np.pi))"
   ]
  },
  {
   "cell_type": "code",
   "execution_count": 188,
   "metadata": {},
   "outputs": [
    {
     "name": "stdout",
     "output_type": "stream",
     "text": [
      "0.9004649206839441\n"
     ]
    }
   ],
   "source": [
    "N = 100000\n",
    "x = 2\n",
    "\n",
    "Ys = []\n",
    "for i in range(N):\n",
    "    # pick random z and w in standard normal\n",
    "    z = np.random.randn()\n",
    "    w = np.random.randn()\n",
    "\n",
    "    # let x = mu_x + sigm_x*z\n",
    "    z = (x - mu_x)/sigma_x\n",
    "    # let y = mu_y + sigma_y*(rho*z + sqrt(1 - rho^2)*w)\n",
    "    y = mu_y + sigma_y*(rho*z + np.sqrt(1 - rho**2)*w)\n",
    "\n",
    "    Ys.append(y)\n",
    "\n",
    "# print average of maxes\n",
    "print(np.mean(Ys))\n",
    "\n",
    "# graph normalized thetas\n",
    "# plt.hist(thetas, bins=100, density=True)\n",
    "# plt.show()"
   ]
  },
  {
   "cell_type": "code",
   "execution_count": 189,
   "metadata": {},
   "outputs": [
    {
     "name": "stdout",
     "output_type": "stream",
     "text": [
      "0.9012279231746372\n"
     ]
    }
   ],
   "source": [
    "# print mu_y + rho sigma y / sigma x (x - mu x)\n",
    "print(mu_y + rho*sigma_y/sigma_x*(x - mu_x))\n"
   ]
  }
 ],
 "metadata": {
  "kernelspec": {
   "display_name": "Python 3",
   "language": "python",
   "name": "python3"
  },
  "language_info": {
   "codemirror_mode": {
    "name": "ipython",
    "version": 3
   },
   "file_extension": ".py",
   "mimetype": "text/x-python",
   "name": "python",
   "nbconvert_exporter": "python",
   "pygments_lexer": "ipython3",
   "version": "3.10.0"
  }
 },
 "nbformat": 4,
 "nbformat_minor": 2
}
